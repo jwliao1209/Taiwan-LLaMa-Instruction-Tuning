{
 "cells": [
  {
   "cell_type": "code",
   "execution_count": 1,
   "id": "66850f09-b2a4-4396-a5c3-e3deef1a4550",
   "metadata": {},
   "outputs": [],
   "source": [
    "import sys\n",
    "sys.path.append(\"../\")"
   ]
  },
  {
   "cell_type": "code",
   "execution_count": 2,
   "id": "6c3130b3-92d5-4970-98f3-2223b92a6b17",
   "metadata": {},
   "outputs": [],
   "source": [
    "import json\n",
    "import torch\n",
    "import numpy as np\n",
    "import matplotlib.pyplot as plt\n",
    "\n",
    "from tqdm import tqdm\n",
    "from peft import PeftModel\n",
    "from transformers import AutoModelForCausalLM, AutoTokenizer\n",
    "\n",
    "from ppl import perplexity\n",
    "from src.prompt import get_prompt\n",
    "from src.utils import set_random_seeds, get_bnb_config"
   ]
  },
  {
   "cell_type": "code",
   "execution_count": 3,
   "id": "35e423c2-51b0-4e82-bbc2-5d9a28ec998e",
   "metadata": {},
   "outputs": [],
   "source": [
    "base_model_path = \"../pretrain/Taiwan-LLM-7B-v2.0-chat\"\n",
    "peft_path = \"../checkpoint/epoch=4_ppl=3.649335366725922\"\n",
    "test_data_path = \"../data/public_test.json\""
   ]
  },
  {
   "cell_type": "code",
   "execution_count": 4,
   "id": "35b8641d-c17e-4091-b3f2-3c27e53af04f",
   "metadata": {},
   "outputs": [
    {
     "data": {
      "application/vnd.jupyter.widget-view+json": {
       "model_id": "3aa694fb19874c80b0a4a65213e1a181",
       "version_major": 2,
       "version_minor": 0
      },
      "text/plain": [
       "Loading checkpoint shards:   0%|          | 0/2 [00:00<?, ?it/s]"
      ]
     },
     "metadata": {},
     "output_type": "display_data"
    },
    {
     "data": {
      "application/vnd.jupyter.widget-view+json": {
       "model_id": "47d29b9e30c94db09c018fc836abc6c3",
       "version_major": 2,
       "version_minor": 0
      },
      "text/plain": [
       "Loading checkpoint shards:   0%|          | 0/2 [00:00<?, ?it/s]"
      ]
     },
     "metadata": {},
     "output_type": "display_data"
    },
    {
     "data": {
      "application/vnd.jupyter.widget-view+json": {
       "model_id": "6e9dc84744b044a5b3712261e7d24f68",
       "version_major": 2,
       "version_minor": 0
      },
      "text/plain": [
       "Loading checkpoint shards:   0%|          | 0/2 [00:00<?, ?it/s]"
      ]
     },
     "metadata": {},
     "output_type": "display_data"
    },
    {
     "data": {
      "text/plain": [
       "PeftModelForCausalLM(\n",
       "  (base_model): LoraModel(\n",
       "    (model): LlamaForCausalLM(\n",
       "      (model): LlamaModel(\n",
       "        (embed_tokens): Embedding(32000, 4096)\n",
       "        (layers): ModuleList(\n",
       "          (0-31): 32 x LlamaDecoderLayer(\n",
       "            (self_attn): LlamaAttention(\n",
       "              (q_proj): Linear4bit(\n",
       "                (lora_dropout): ModuleDict(\n",
       "                  (default): Dropout(p=0.1, inplace=False)\n",
       "                )\n",
       "                (lora_A): ModuleDict(\n",
       "                  (default): Linear(in_features=4096, out_features=16, bias=False)\n",
       "                )\n",
       "                (lora_B): ModuleDict(\n",
       "                  (default): Linear(in_features=16, out_features=4096, bias=False)\n",
       "                )\n",
       "                (lora_embedding_A): ParameterDict()\n",
       "                (lora_embedding_B): ParameterDict()\n",
       "                (base_layer): Linear4bit(in_features=4096, out_features=4096, bias=False)\n",
       "              )\n",
       "              (k_proj): Linear4bit(in_features=4096, out_features=4096, bias=False)\n",
       "              (v_proj): Linear4bit(\n",
       "                (lora_dropout): ModuleDict(\n",
       "                  (default): Dropout(p=0.1, inplace=False)\n",
       "                )\n",
       "                (lora_A): ModuleDict(\n",
       "                  (default): Linear(in_features=4096, out_features=16, bias=False)\n",
       "                )\n",
       "                (lora_B): ModuleDict(\n",
       "                  (default): Linear(in_features=16, out_features=4096, bias=False)\n",
       "                )\n",
       "                (lora_embedding_A): ParameterDict()\n",
       "                (lora_embedding_B): ParameterDict()\n",
       "                (base_layer): Linear4bit(in_features=4096, out_features=4096, bias=False)\n",
       "              )\n",
       "              (o_proj): Linear4bit(in_features=4096, out_features=4096, bias=False)\n",
       "              (rotary_emb): LlamaRotaryEmbedding()\n",
       "            )\n",
       "            (mlp): LlamaMLP(\n",
       "              (gate_proj): Linear4bit(in_features=4096, out_features=11008, bias=False)\n",
       "              (up_proj): Linear4bit(in_features=4096, out_features=11008, bias=False)\n",
       "              (down_proj): Linear4bit(in_features=11008, out_features=4096, bias=False)\n",
       "              (act_fn): SiLUActivation()\n",
       "            )\n",
       "            (input_layernorm): LlamaRMSNorm()\n",
       "            (post_attention_layernorm): LlamaRMSNorm()\n",
       "          )\n",
       "        )\n",
       "        (norm): LlamaRMSNorm()\n",
       "      )\n",
       "      (lm_head): Linear(in_features=4096, out_features=32000, bias=False)\n",
       "    )\n",
       "  )\n",
       ")"
      ]
     },
     "execution_count": 4,
     "metadata": {},
     "output_type": "execute_result"
    }
   ],
   "source": [
    "set_random_seeds()\n",
    "\n",
    "# Load model\n",
    "tokenizer = AutoTokenizer.from_pretrained(base_model_path)\n",
    "bnb_config = get_bnb_config()\n",
    "\n",
    "# Zero-shot\n",
    "zero_shot_model = AutoModelForCausalLM.from_pretrained(\n",
    "    base_model_path,\n",
    "    torch_dtype=torch.bfloat16,\n",
    "    quantization_config=bnb_config\n",
    ")\n",
    "zero_shot_model.eval()\n",
    "\n",
    "# Few-shot\n",
    "few_shot_model = AutoModelForCausalLM.from_pretrained(\n",
    "    base_model_path,\n",
    "    torch_dtype=torch.bfloat16,\n",
    "    quantization_config=bnb_config\n",
    ")\n",
    "few_shot_model.eval()\n",
    "\n",
    "# LoRA\n",
    "lora_model = AutoModelForCausalLM.from_pretrained(\n",
    "    base_model_path,\n",
    "    torch_dtype=torch.bfloat16,\n",
    "    quantization_config=bnb_config\n",
    ")\n",
    "lora_model = PeftModel.from_pretrained(lora_model, peft_path)\n",
    "lora_model.eval()"
   ]
  },
  {
   "cell_type": "code",
   "execution_count": 5,
   "id": "c6e86db9-2603-4102-980e-9b9af971133e",
   "metadata": {},
   "outputs": [],
   "source": [
    "# Load dataset\n",
    "with open(test_data_path, \"r\") as f:\n",
    "    data = json.load(f)"
   ]
  },
  {
   "cell_type": "code",
   "execution_count": 6,
   "id": "80101476-db40-4364-8518-72950fa65557",
   "metadata": {},
   "outputs": [
    {
     "name": "stderr",
     "output_type": "stream",
     "text": [
      "100%|█████████████████████████████████████████████████████████████████████████████████████████████████████████████████████████████████████████████████| 250/250 [00:25<00:00, 10.00it/s]\n",
      "100%|█████████████████████████████████████████████████████████████████████████████████████████████████████████████████████████████████████████████████| 250/250 [00:45<00:00,  5.46it/s]\n",
      "100%|█████████████████████████████████████████████████████████████████████████████████████████████████████████████████████████████████████████████████| 250/250 [00:24<00:00, 10.22it/s]\n"
     ]
    }
   ],
   "source": [
    "zero_shot_ppl = perplexity(zero_shot_model, tokenizer, data, incontext=False)\n",
    "few_shot_ppl  = perplexity(few_shot_model, tokenizer, data, incontext=True)\n",
    "lora_shot_ppl = perplexity(lora_model, tokenizer, data, incontext=False)"
   ]
  },
  {
   "cell_type": "code",
   "execution_count": 7,
   "id": "60984a90-1804-4a21-a50c-0e8082524ac4",
   "metadata": {},
   "outputs": [
    {
     "name": "stdout",
     "output_type": "stream",
     "text": [
      "Zero-shot Mean perplexity: 5.2045780034065245\n",
      "Zero-shot Std perplexity:  4.1270745774025395\n",
      "Few-shot Mean perplexity:  4.893454794406891\n",
      "Few-shot Std perplexity:   3.8037628799112757\n",
      "LoRA Mean perplexity:      3.647635447025299\n",
      "LoRA Std perplexity:       2.7747906212759035\n"
     ]
    }
   ],
   "source": [
    "print(\"Zero-shot Mean perplexity:\", zero_shot_ppl[\"mean_perplexity\"])\n",
    "print(\"Zero-shot Std perplexity: \", zero_shot_ppl[\"std_perplexity\"])\n",
    "\n",
    "print(\"Few-shot Mean perplexity: \", few_shot_ppl[\"mean_perplexity\"])\n",
    "print(\"Few-shot Std perplexity:  \", few_shot_ppl[\"std_perplexity\"])\n",
    "\n",
    "print(\"LoRA Mean perplexity:     \", lora_shot_ppl[\"mean_perplexity\"])\n",
    "print(\"LoRA Std perplexity:      \", lora_shot_ppl[\"std_perplexity\"])"
   ]
  },
  {
   "cell_type": "code",
   "execution_count": 8,
   "id": "271d06a8-7adc-4d5c-8f86-a3423ca7c2c2",
   "metadata": {},
   "outputs": [
    {
     "data": {
      "image/png": "[encoded data removed]",
      "text/plain": [
       "<Figure size 800x600 with 1 Axes>"
      ]
     },
     "metadata": {},
     "output_type": "display_data"
    }
   ],
   "source": [
    "plt.figure(figsize=(8, 6))\n",
    "\n",
    "plt.boxplot(zero_shot_ppl[\"perplexities\"],\n",
    "            positions=[1],\n",
    "            patch_artist=True,\n",
    "            boxprops=dict(facecolor='lightblue'),\n",
    "            medianprops=dict(color='black'),\n",
    "            whiskerprops=dict(color='black'),\n",
    "            capprops=dict(color='black'),\n",
    "            flierprops=dict(marker='o', markerfacecolor='lightblue', markersize=5)\n",
    ")\n",
    "plt.boxplot(few_shot_ppl[\"perplexities\"],\n",
    "            positions=[2],\n",
    "            patch_artist=True,\n",
    "            boxprops=dict(facecolor='lightgreen'),\n",
    "            medianprops=dict(color='black'),\n",
    "            whiskerprops=dict(color='black'),\n",
    "            capprops=dict(color='black'),\n",
    "            flierprops=dict(marker='o', markerfacecolor='lightgreen', markersize=5)\n",
    ")\n",
    "plt.boxplot(lora_shot_ppl[\"perplexities\"],\n",
    "            positions=[3],\n",
    "            patch_artist=True,\n",
    "            boxprops=dict(facecolor='lightpink'),\n",
    "            medianprops=dict(color='black'),\n",
    "            whiskerprops=dict(color='black'),\n",
    "            capprops=dict(color='black'),\n",
    "            flierprops=dict(marker='o', markerfacecolor='lightpink', markersize=5)\n",
    ")\n",
    "\n",
    "\n",
    "plt.title(\"Perplexity Distribution\", fontsize=15)\n",
    "plt.ylabel(\"Perplexity\", fontsize=12)\n",
    "plt.xticks([1, 2, 3], [\"Zero-shot Learning\", \"Few-shot Learning\", \"LoRA fine-tune\"], fontsize=12)\n",
    "plt.grid(alpha=0.3)\n",
    "\n",
    "plt.savefig(\"figures/perplexity_distribution.png\")"
   ]
  },
  {
   "cell_type": "code",
   "execution_count": null,
   "id": "13edb291-c59f-41c6-89b2-fb556a3b8061",
   "metadata": {},
   "outputs": [],
   "source": []
  },
  {
   "cell_type": "code",
   "execution_count": null,
   "id": "0b5150fa-9c54-4ec5-8862-115acfe0fe15",
   "metadata": {},
   "outputs": [],
   "source": []
  }
 ],
 "metadata": {
  "kernelspec": {
   "display_name": "Python 3 (ipykernel)",
   "language": "python",
   "name": "python3"
  },
  "language_info": {
   "codemirror_mode": {
    "name": "ipython",
    "version": 3
   },
   "file_extension": ".py",
   "mimetype": "text/x-python",
   "name": "python",
   "nbconvert_exporter": "python",
   "pygments_lexer": "ipython3",
   "version": "3.10.13"
  }
 },
 "nbformat": 4,
 "nbformat_minor": 5
}
