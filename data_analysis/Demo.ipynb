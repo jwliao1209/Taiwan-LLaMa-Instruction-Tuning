{
 "cells": [
  {
   "cell_type": "code",
   "execution_count": 1,
   "id": "b19a62cc-798b-45b6-8a00-ac94aaa36e74",
   "metadata": {},
   "outputs": [],
   "source": [
    "import sys\n",
    "sys.path.append(\"../\")"
   ]
  },
  {
   "cell_type": "code",
   "execution_count": 2,
   "id": "4b2c4255-cbd0-4204-927f-581b843b46f2",
   "metadata": {},
   "outputs": [],
   "source": [
    "import torch\n",
    "from transformers import AutoModelForCausalLM, AutoTokenizer\n",
    "from peft import PeftModel\n",
    "\n",
    "from utils import get_bnb_config\n",
    "from src.utils import set_random_seeds"
   ]
  },
  {
   "cell_type": "code",
   "execution_count": 3,
   "id": "baa7eabd-bb91-448f-8e03-f826b9b00373",
   "metadata": {},
   "outputs": [],
   "source": [
    "def get_prompt(instruction: str, incontext: bool = False) -> str:\n",
    "    '''Format the instruction as a prompt for LLM.'''\n",
    "    if incontext:\n",
    "        return f\"\"\"你是人工智慧助理，以下是用戶和人工智能助理之間的對話。你要對用戶的問題提供有用、安全、詳細和禮貌的回答。提供你兩個例子參考:\n",
    "    1. USER: 翻譯成文言文：雅裏惱怒地說： 從前在福山田獵時，你誣陷獵官，現在又說這種話。ASSISTANT: 雅裏怒曰： 昔畋於福山，卿誣獵官，今復有此言。\n",
    "    2. USER: 辛未，命吳堅為左丞相兼樞密使，常楙參知政事。把這句話翻譯成白話文。ASSISTANT: 初五，命令吳堅為左承相兼樞密使，常增為參知政事。\n",
    "    以下的問題為文言文翻譯成白話文或白話文翻譯成文言文。請回答: USER: {instruction} ASSISTANT:\"\"\"\n",
    "    else:\n",
    "        return f\"\"\"你是人工智慧助理，以下是用戶和人工智能助理之間的對話。你要對用戶的問題提供有用、安全、詳細和禮貌的回答。以下的問題為文言文翻譯成白話文或白話文翻譯成文言文。USER: {instruction} ASSISTANT:\"\"\""
   ]
  },
  {
   "cell_type": "code",
   "execution_count": 4,
   "id": "c3f814df-fdd5-4130-b4de-147a10f12e9b",
   "metadata": {},
   "outputs": [],
   "source": [
    "method = \"lora-fine-tune\"\n",
    "base_model_path = \"../pretrain/Taiwan-LLM-7B-v2.0-chat\"\n",
    "peft_path = \"../checkpoint/epoch=4_ppl=3.649335366725922\""
   ]
  },
  {
   "cell_type": "code",
   "execution_count": 5,
   "id": "3989affe-f1ac-46aa-8372-1a70bbdd821a",
   "metadata": {},
   "outputs": [
    {
     "data": {
      "application/vnd.jupyter.widget-view+json": {
       "model_id": "14a3410b121045b2b317bff5ae6fd797",
       "version_major": 2,
       "version_minor": 0
      },
      "text/plain": [
       "Loading checkpoint shards:   0%|          | 0/2 [00:00<?, ?it/s]"
      ]
     },
     "metadata": {},
     "output_type": "display_data"
    }
   ],
   "source": [
    "set_random_seeds()\n",
    "\n",
    "# Prepare model\n",
    "tokenizer = AutoTokenizer.from_pretrained(base_model_path)\n",
    "\n",
    "bnb_config = get_bnb_config()\n",
    "model = AutoModelForCausalLM.from_pretrained(\n",
    "    base_model_path,\n",
    "    torch_dtype=torch.bfloat16,\n",
    "    quantization_config=bnb_config\n",
    ")\n",
    "if method == \"lora-fine-tune\":\n",
    "    model = PeftModel.from_pretrained(model, peft_path)\n",
    "\n",
    "device = torch.device(f\"cuda:0\" if torch.cuda.is_available() else \"cpu\")"
   ]
  },
  {
   "cell_type": "code",
   "execution_count": 6,
   "id": "a1ad2db8-8c97-4950-a336-4959ef778ef6",
   "metadata": {},
   "outputs": [
    {
     "name": "stdout",
     "output_type": "stream",
     "text": [
      "Please input your question:  翻譯成文言文：\\n於是，廢帝讓瀋慶之的堂侄、直將軍瀋攸之賜瀋慶之毒藥，命瀋慶之自殺。\n"
     ]
    },
    {
     "name": "stdout",
     "output_type": "stream",
     "text": [
      "Prompt: 你是人工智慧助理，以下是用戶和人工智能助理之間的對話。你要對用戶的問題提供有用、安全、詳細和禮貌的回答。以下的問題為文言文翻譯成白話文或白話文翻譯成文言文。USER: 翻譯成文言文：\\n於是，廢帝讓瀋慶之的堂侄、直將軍瀋攸之賜瀋慶之毒藥，命瀋慶之自殺。 ASSISTANT:\n",
      "Answer: 於是，廢帝賜毒藥於慶之侄直將軍瀋攸之，令慶之自殺。\n"
     ]
    }
   ],
   "source": [
    "question = input(\"Please input your question: \")\n",
    "\n",
    "prompt = get_prompt(question, incontext=True if method == \"few-shot\" else False)\n",
    "print(\"Prompt:\", prompt)\n",
    "\n",
    "question_input_ids = torch.tensor(\n",
    "    [tokenizer.bos_token_id] + tokenizer(prompt, add_special_tokens=False)[\"input_ids\"]\n",
    ")\n",
    "\n",
    "model.eval()\n",
    "with torch.no_grad():\n",
    "    data = question_input_ids.unsqueeze(0).to(device)\n",
    "    generated_tokens = model.generate(input_ids=data)\n",
    "    generation = tokenizer.batch_decode(generated_tokens, skip_special_tokens=True)[0]\n",
    "    generation = generation.replace(prompt, \"\").strip()\n",
    "    print(\"Answer:\", generation)"
   ]
  },
  {
   "cell_type": "code",
   "execution_count": null,
   "id": "cee9929d-0f82-4a94-8816-57ecebb13750",
   "metadata": {},
   "outputs": [],
   "source": []
  }
 ],
 "metadata": {
  "kernelspec": {
   "display_name": "Python 3 (ipykernel)",
   "language": "python",
   "name": "python3"
  },
  "language_info": {
   "codemirror_mode": {
    "name": "ipython",
    "version": 3
   },
   "file_extension": ".py",
   "mimetype": "text/x-python",
   "name": "python",
   "nbconvert_exporter": "python",
   "pygments_lexer": "ipython3",
   "version": "3.10.13"
  }
 },
 "nbformat": 4,
 "nbformat_minor": 5
}
